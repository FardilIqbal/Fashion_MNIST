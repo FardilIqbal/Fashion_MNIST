{
 "cells": [
  {
   "cell_type": "markdown",
   "id": "6f812d6f",
   "metadata": {
    "papermill": {
     "duration": 0.008398,
     "end_time": "2022-12-31T20:28:51.128280",
     "exception": false,
     "start_time": "2022-12-31T20:28:51.119882",
     "status": "completed"
    },
    "tags": []
   },
   "source": [
    "## Fashion MNIST Data Set - Convolutional Neural Network"
   ]
  },
  {
   "cell_type": "markdown",
   "id": "a9a1f553",
   "metadata": {
    "papermill": {
     "duration": 0.007011,
     "end_time": "2022-12-31T20:28:51.142777",
     "exception": false,
     "start_time": "2022-12-31T20:28:51.135766",
     "status": "completed"
    },
    "tags": []
   },
   "source": [
    "The data set being used is Fashion MNIST which is a dataset of Zalando's article images. https://www.kaggle.com/datasets/zalando-research/fashionmnist . "
   ]
  },
  {
   "cell_type": "markdown",
   "id": "01abc40d",
   "metadata": {
    "papermill": {
     "duration": 0.006924,
     "end_time": "2022-12-31T20:28:51.157391",
     "exception": false,
     "start_time": "2022-12-31T20:28:51.150467",
     "status": "completed"
    },
    "tags": []
   },
   "source": [
    "Parts of model implementation borrowed or inspired from Pavan Sanagapati's implementation of CNN with Tensorflow https://www.kaggle.com/code/pavansanagapati/a-simple-cnn-model-beginner-guide. Will be mentioned when this takes place."
   ]
  },
  {
   "cell_type": "code",
   "execution_count": 1,
   "id": "b0322f7e",
   "metadata": {
    "_cell_guid": "b1076dfc-b9ad-4769-8c92-a6c4dae69d19",
    "_uuid": "8f2839f25d086af736a60e9eeb907d3b93b6e0e5",
    "execution": {
     "iopub.execute_input": "2022-12-31T20:28:51.173607Z",
     "iopub.status.busy": "2022-12-31T20:28:51.173164Z",
     "iopub.status.idle": "2022-12-31T20:28:56.945762Z",
     "shell.execute_reply": "2022-12-31T20:28:56.944924Z"
    },
    "papermill": {
     "duration": 5.784061,
     "end_time": "2022-12-31T20:28:56.948549",
     "exception": false,
     "start_time": "2022-12-31T20:28:51.164488",
     "status": "completed"
    },
    "tags": []
   },
   "outputs": [
    {
     "name": "stdout",
     "output_type": "stream",
     "text": [
      "/kaggle/input/fashionmnist/t10k-labels-idx1-ubyte\n",
      "/kaggle/input/fashionmnist/t10k-images-idx3-ubyte\n",
      "/kaggle/input/fashionmnist/fashion-mnist_test.csv\n",
      "/kaggle/input/fashionmnist/fashion-mnist_train.csv\n",
      "/kaggle/input/fashionmnist/train-labels-idx1-ubyte\n",
      "/kaggle/input/fashionmnist/train-images-idx3-ubyte\n"
     ]
    }
   ],
   "source": [
    "# This Python 3 environment comes with many helpful analytics libraries installed\n",
    "# It is defined by the kaggle/python Docker image: https://github.com/kaggle/docker-python\n",
    "# For example, here's several helpful packages to load\n",
    "\n",
    "import numpy as np # linear algebra\n",
    "import pandas as pd # data processing, CSV file I/O (e.g. pd.read_csv)\n",
    "from sklearn.model_selection import train_test_split\n",
    "from sklearn.metrics import classification_report\n",
    "from tensorflow.python import keras\n",
    "from tensorflow.python.keras.models import Sequential\n",
    "from tensorflow.python.keras.layers import Dense, Flatten, Conv2D, Dropout, MaxPooling2D\n",
    "import seaborn as sns\n",
    "import matplotlib.pyplot as plt\n",
    "\n",
    "# Input data files are available in the read-only \"../input/\" directory\n",
    "# For example, running this (by clicking run or pressing Shift+Enter) will list all files under the input directory\n",
    "\n",
    "import os\n",
    "for dirname, _, filenames in os.walk('/kaggle/input'):\n",
    "    for filename in filenames:\n",
    "        print(os.path.join(dirname, filename))\n",
    "\n",
    "# You can write up to 20GB to the current directory (/kaggle/working/) that gets preserved as output when you create a version using \"Save & Run All\" \n",
    "# You can also write temporary files to /kaggle/temp/, but they won't be saved outside of the current session"
   ]
  },
  {
   "cell_type": "markdown",
   "id": "e24e8aa8",
   "metadata": {
    "papermill": {
     "duration": 0.00773,
     "end_time": "2022-12-31T20:28:56.963780",
     "exception": false,
     "start_time": "2022-12-31T20:28:56.956050",
     "status": "completed"
    },
    "tags": []
   },
   "source": [
    "# Reading files and Exploring Data"
   ]
  },
  {
   "cell_type": "code",
   "execution_count": 2,
   "id": "f874591a",
   "metadata": {
    "execution": {
     "iopub.execute_input": "2022-12-31T20:28:56.982264Z",
     "iopub.status.busy": "2022-12-31T20:28:56.981097Z",
     "iopub.status.idle": "2022-12-31T20:29:03.900075Z",
     "shell.execute_reply": "2022-12-31T20:29:03.898838Z"
    },
    "papermill": {
     "duration": 6.932093,
     "end_time": "2022-12-31T20:29:03.903017",
     "exception": false,
     "start_time": "2022-12-31T20:28:56.970924",
     "status": "completed"
    },
    "tags": []
   },
   "outputs": [],
   "source": [
    "train_df = pd.read_csv(\"/kaggle/input/fashionmnist/fashion-mnist_train.csv\")\n",
    "test_df = pd.read_csv(\"/kaggle/input/fashionmnist/fashion-mnist_test.csv\")"
   ]
  },
  {
   "cell_type": "code",
   "execution_count": 3,
   "id": "8b444028",
   "metadata": {
    "execution": {
     "iopub.execute_input": "2022-12-31T20:29:03.919198Z",
     "iopub.status.busy": "2022-12-31T20:29:03.918793Z",
     "iopub.status.idle": "2022-12-31T20:29:03.949798Z",
     "shell.execute_reply": "2022-12-31T20:29:03.948887Z"
    },
    "papermill": {
     "duration": 0.043491,
     "end_time": "2022-12-31T20:29:03.953839",
     "exception": false,
     "start_time": "2022-12-31T20:29:03.910348",
     "status": "completed"
    },
    "tags": []
   },
   "outputs": [
    {
     "data": {
      "text/html": [
       "<div>\n",
       "<style scoped>\n",
       "    .dataframe tbody tr th:only-of-type {\n",
       "        vertical-align: middle;\n",
       "    }\n",
       "\n",
       "    .dataframe tbody tr th {\n",
       "        vertical-align: top;\n",
       "    }\n",
       "\n",
       "    .dataframe thead th {\n",
       "        text-align: right;\n",
       "    }\n",
       "</style>\n",
       "<table border=\"1\" class=\"dataframe\">\n",
       "  <thead>\n",
       "    <tr style=\"text-align: right;\">\n",
       "      <th></th>\n",
       "      <th>label</th>\n",
       "      <th>pixel1</th>\n",
       "      <th>pixel2</th>\n",
       "      <th>pixel3</th>\n",
       "      <th>pixel4</th>\n",
       "      <th>pixel5</th>\n",
       "      <th>pixel6</th>\n",
       "      <th>pixel7</th>\n",
       "      <th>pixel8</th>\n",
       "      <th>pixel9</th>\n",
       "      <th>...</th>\n",
       "      <th>pixel775</th>\n",
       "      <th>pixel776</th>\n",
       "      <th>pixel777</th>\n",
       "      <th>pixel778</th>\n",
       "      <th>pixel779</th>\n",
       "      <th>pixel780</th>\n",
       "      <th>pixel781</th>\n",
       "      <th>pixel782</th>\n",
       "      <th>pixel783</th>\n",
       "      <th>pixel784</th>\n",
       "    </tr>\n",
       "  </thead>\n",
       "  <tbody>\n",
       "    <tr>\n",
       "      <th>0</th>\n",
       "      <td>2</td>\n",
       "      <td>0</td>\n",
       "      <td>0</td>\n",
       "      <td>0</td>\n",
       "      <td>0</td>\n",
       "      <td>0</td>\n",
       "      <td>0</td>\n",
       "      <td>0</td>\n",
       "      <td>0</td>\n",
       "      <td>0</td>\n",
       "      <td>...</td>\n",
       "      <td>0</td>\n",
       "      <td>0</td>\n",
       "      <td>0</td>\n",
       "      <td>0</td>\n",
       "      <td>0</td>\n",
       "      <td>0</td>\n",
       "      <td>0</td>\n",
       "      <td>0</td>\n",
       "      <td>0</td>\n",
       "      <td>0</td>\n",
       "    </tr>\n",
       "    <tr>\n",
       "      <th>1</th>\n",
       "      <td>9</td>\n",
       "      <td>0</td>\n",
       "      <td>0</td>\n",
       "      <td>0</td>\n",
       "      <td>0</td>\n",
       "      <td>0</td>\n",
       "      <td>0</td>\n",
       "      <td>0</td>\n",
       "      <td>0</td>\n",
       "      <td>0</td>\n",
       "      <td>...</td>\n",
       "      <td>0</td>\n",
       "      <td>0</td>\n",
       "      <td>0</td>\n",
       "      <td>0</td>\n",
       "      <td>0</td>\n",
       "      <td>0</td>\n",
       "      <td>0</td>\n",
       "      <td>0</td>\n",
       "      <td>0</td>\n",
       "      <td>0</td>\n",
       "    </tr>\n",
       "    <tr>\n",
       "      <th>2</th>\n",
       "      <td>6</td>\n",
       "      <td>0</td>\n",
       "      <td>0</td>\n",
       "      <td>0</td>\n",
       "      <td>0</td>\n",
       "      <td>0</td>\n",
       "      <td>0</td>\n",
       "      <td>0</td>\n",
       "      <td>5</td>\n",
       "      <td>0</td>\n",
       "      <td>...</td>\n",
       "      <td>0</td>\n",
       "      <td>0</td>\n",
       "      <td>0</td>\n",
       "      <td>30</td>\n",
       "      <td>43</td>\n",
       "      <td>0</td>\n",
       "      <td>0</td>\n",
       "      <td>0</td>\n",
       "      <td>0</td>\n",
       "      <td>0</td>\n",
       "    </tr>\n",
       "    <tr>\n",
       "      <th>3</th>\n",
       "      <td>0</td>\n",
       "      <td>0</td>\n",
       "      <td>0</td>\n",
       "      <td>0</td>\n",
       "      <td>1</td>\n",
       "      <td>2</td>\n",
       "      <td>0</td>\n",
       "      <td>0</td>\n",
       "      <td>0</td>\n",
       "      <td>0</td>\n",
       "      <td>...</td>\n",
       "      <td>3</td>\n",
       "      <td>0</td>\n",
       "      <td>0</td>\n",
       "      <td>0</td>\n",
       "      <td>0</td>\n",
       "      <td>1</td>\n",
       "      <td>0</td>\n",
       "      <td>0</td>\n",
       "      <td>0</td>\n",
       "      <td>0</td>\n",
       "    </tr>\n",
       "    <tr>\n",
       "      <th>4</th>\n",
       "      <td>3</td>\n",
       "      <td>0</td>\n",
       "      <td>0</td>\n",
       "      <td>0</td>\n",
       "      <td>0</td>\n",
       "      <td>0</td>\n",
       "      <td>0</td>\n",
       "      <td>0</td>\n",
       "      <td>0</td>\n",
       "      <td>0</td>\n",
       "      <td>...</td>\n",
       "      <td>0</td>\n",
       "      <td>0</td>\n",
       "      <td>0</td>\n",
       "      <td>0</td>\n",
       "      <td>0</td>\n",
       "      <td>0</td>\n",
       "      <td>0</td>\n",
       "      <td>0</td>\n",
       "      <td>0</td>\n",
       "      <td>0</td>\n",
       "    </tr>\n",
       "  </tbody>\n",
       "</table>\n",
       "<p>5 rows × 785 columns</p>\n",
       "</div>"
      ],
      "text/plain": [
       "   label  pixel1  pixel2  pixel3  pixel4  pixel5  pixel6  pixel7  pixel8  \\\n",
       "0      2       0       0       0       0       0       0       0       0   \n",
       "1      9       0       0       0       0       0       0       0       0   \n",
       "2      6       0       0       0       0       0       0       0       5   \n",
       "3      0       0       0       0       1       2       0       0       0   \n",
       "4      3       0       0       0       0       0       0       0       0   \n",
       "\n",
       "   pixel9  ...  pixel775  pixel776  pixel777  pixel778  pixel779  pixel780  \\\n",
       "0       0  ...         0         0         0         0         0         0   \n",
       "1       0  ...         0         0         0         0         0         0   \n",
       "2       0  ...         0         0         0        30        43         0   \n",
       "3       0  ...         3         0         0         0         0         1   \n",
       "4       0  ...         0         0         0         0         0         0   \n",
       "\n",
       "   pixel781  pixel782  pixel783  pixel784  \n",
       "0         0         0         0         0  \n",
       "1         0         0         0         0  \n",
       "2         0         0         0         0  \n",
       "3         0         0         0         0  \n",
       "4         0         0         0         0  \n",
       "\n",
       "[5 rows x 785 columns]"
      ]
     },
     "execution_count": 3,
     "metadata": {},
     "output_type": "execute_result"
    }
   ],
   "source": [
    "train_df.head()"
   ]
  },
  {
   "cell_type": "code",
   "execution_count": 4,
   "id": "805a0694",
   "metadata": {
    "execution": {
     "iopub.execute_input": "2022-12-31T20:29:03.974998Z",
     "iopub.status.busy": "2022-12-31T20:29:03.973562Z",
     "iopub.status.idle": "2022-12-31T20:29:03.996965Z",
     "shell.execute_reply": "2022-12-31T20:29:03.994718Z"
    },
    "papermill": {
     "duration": 0.038704,
     "end_time": "2022-12-31T20:29:04.000389",
     "exception": false,
     "start_time": "2022-12-31T20:29:03.961685",
     "status": "completed"
    },
    "tags": []
   },
   "outputs": [
    {
     "data": {
      "text/html": [
       "<div>\n",
       "<style scoped>\n",
       "    .dataframe tbody tr th:only-of-type {\n",
       "        vertical-align: middle;\n",
       "    }\n",
       "\n",
       "    .dataframe tbody tr th {\n",
       "        vertical-align: top;\n",
       "    }\n",
       "\n",
       "    .dataframe thead th {\n",
       "        text-align: right;\n",
       "    }\n",
       "</style>\n",
       "<table border=\"1\" class=\"dataframe\">\n",
       "  <thead>\n",
       "    <tr style=\"text-align: right;\">\n",
       "      <th></th>\n",
       "      <th>label</th>\n",
       "      <th>pixel1</th>\n",
       "      <th>pixel2</th>\n",
       "      <th>pixel3</th>\n",
       "      <th>pixel4</th>\n",
       "      <th>pixel5</th>\n",
       "      <th>pixel6</th>\n",
       "      <th>pixel7</th>\n",
       "      <th>pixel8</th>\n",
       "      <th>pixel9</th>\n",
       "      <th>...</th>\n",
       "      <th>pixel775</th>\n",
       "      <th>pixel776</th>\n",
       "      <th>pixel777</th>\n",
       "      <th>pixel778</th>\n",
       "      <th>pixel779</th>\n",
       "      <th>pixel780</th>\n",
       "      <th>pixel781</th>\n",
       "      <th>pixel782</th>\n",
       "      <th>pixel783</th>\n",
       "      <th>pixel784</th>\n",
       "    </tr>\n",
       "  </thead>\n",
       "  <tbody>\n",
       "    <tr>\n",
       "      <th>0</th>\n",
       "      <td>0</td>\n",
       "      <td>0</td>\n",
       "      <td>0</td>\n",
       "      <td>0</td>\n",
       "      <td>0</td>\n",
       "      <td>0</td>\n",
       "      <td>0</td>\n",
       "      <td>0</td>\n",
       "      <td>9</td>\n",
       "      <td>8</td>\n",
       "      <td>...</td>\n",
       "      <td>103</td>\n",
       "      <td>87</td>\n",
       "      <td>56</td>\n",
       "      <td>0</td>\n",
       "      <td>0</td>\n",
       "      <td>0</td>\n",
       "      <td>0</td>\n",
       "      <td>0</td>\n",
       "      <td>0</td>\n",
       "      <td>0</td>\n",
       "    </tr>\n",
       "    <tr>\n",
       "      <th>1</th>\n",
       "      <td>1</td>\n",
       "      <td>0</td>\n",
       "      <td>0</td>\n",
       "      <td>0</td>\n",
       "      <td>0</td>\n",
       "      <td>0</td>\n",
       "      <td>0</td>\n",
       "      <td>0</td>\n",
       "      <td>0</td>\n",
       "      <td>0</td>\n",
       "      <td>...</td>\n",
       "      <td>34</td>\n",
       "      <td>0</td>\n",
       "      <td>0</td>\n",
       "      <td>0</td>\n",
       "      <td>0</td>\n",
       "      <td>0</td>\n",
       "      <td>0</td>\n",
       "      <td>0</td>\n",
       "      <td>0</td>\n",
       "      <td>0</td>\n",
       "    </tr>\n",
       "    <tr>\n",
       "      <th>2</th>\n",
       "      <td>2</td>\n",
       "      <td>0</td>\n",
       "      <td>0</td>\n",
       "      <td>0</td>\n",
       "      <td>0</td>\n",
       "      <td>0</td>\n",
       "      <td>0</td>\n",
       "      <td>14</td>\n",
       "      <td>53</td>\n",
       "      <td>99</td>\n",
       "      <td>...</td>\n",
       "      <td>0</td>\n",
       "      <td>0</td>\n",
       "      <td>0</td>\n",
       "      <td>0</td>\n",
       "      <td>63</td>\n",
       "      <td>53</td>\n",
       "      <td>31</td>\n",
       "      <td>0</td>\n",
       "      <td>0</td>\n",
       "      <td>0</td>\n",
       "    </tr>\n",
       "    <tr>\n",
       "      <th>3</th>\n",
       "      <td>2</td>\n",
       "      <td>0</td>\n",
       "      <td>0</td>\n",
       "      <td>0</td>\n",
       "      <td>0</td>\n",
       "      <td>0</td>\n",
       "      <td>0</td>\n",
       "      <td>0</td>\n",
       "      <td>0</td>\n",
       "      <td>0</td>\n",
       "      <td>...</td>\n",
       "      <td>137</td>\n",
       "      <td>126</td>\n",
       "      <td>140</td>\n",
       "      <td>0</td>\n",
       "      <td>133</td>\n",
       "      <td>224</td>\n",
       "      <td>222</td>\n",
       "      <td>56</td>\n",
       "      <td>0</td>\n",
       "      <td>0</td>\n",
       "    </tr>\n",
       "    <tr>\n",
       "      <th>4</th>\n",
       "      <td>3</td>\n",
       "      <td>0</td>\n",
       "      <td>0</td>\n",
       "      <td>0</td>\n",
       "      <td>0</td>\n",
       "      <td>0</td>\n",
       "      <td>0</td>\n",
       "      <td>0</td>\n",
       "      <td>0</td>\n",
       "      <td>0</td>\n",
       "      <td>...</td>\n",
       "      <td>0</td>\n",
       "      <td>0</td>\n",
       "      <td>0</td>\n",
       "      <td>0</td>\n",
       "      <td>0</td>\n",
       "      <td>0</td>\n",
       "      <td>0</td>\n",
       "      <td>0</td>\n",
       "      <td>0</td>\n",
       "      <td>0</td>\n",
       "    </tr>\n",
       "  </tbody>\n",
       "</table>\n",
       "<p>5 rows × 785 columns</p>\n",
       "</div>"
      ],
      "text/plain": [
       "   label  pixel1  pixel2  pixel3  pixel4  pixel5  pixel6  pixel7  pixel8  \\\n",
       "0      0       0       0       0       0       0       0       0       9   \n",
       "1      1       0       0       0       0       0       0       0       0   \n",
       "2      2       0       0       0       0       0       0      14      53   \n",
       "3      2       0       0       0       0       0       0       0       0   \n",
       "4      3       0       0       0       0       0       0       0       0   \n",
       "\n",
       "   pixel9  ...  pixel775  pixel776  pixel777  pixel778  pixel779  pixel780  \\\n",
       "0       8  ...       103        87        56         0         0         0   \n",
       "1       0  ...        34         0         0         0         0         0   \n",
       "2      99  ...         0         0         0         0        63        53   \n",
       "3       0  ...       137       126       140         0       133       224   \n",
       "4       0  ...         0         0         0         0         0         0   \n",
       "\n",
       "   pixel781  pixel782  pixel783  pixel784  \n",
       "0         0         0         0         0  \n",
       "1         0         0         0         0  \n",
       "2        31         0         0         0  \n",
       "3       222        56         0         0  \n",
       "4         0         0         0         0  \n",
       "\n",
       "[5 rows x 785 columns]"
      ]
     },
     "execution_count": 4,
     "metadata": {},
     "output_type": "execute_result"
    }
   ],
   "source": [
    "test_df.head()"
   ]
  },
  {
   "cell_type": "code",
   "execution_count": 5,
   "id": "35041ca2",
   "metadata": {
    "execution": {
     "iopub.execute_input": "2022-12-31T20:29:04.020436Z",
     "iopub.status.busy": "2022-12-31T20:29:04.019663Z",
     "iopub.status.idle": "2022-12-31T20:29:04.032657Z",
     "shell.execute_reply": "2022-12-31T20:29:04.031787Z"
    },
    "papermill": {
     "duration": 0.02588,
     "end_time": "2022-12-31T20:29:04.034916",
     "exception": false,
     "start_time": "2022-12-31T20:29:04.009036",
     "status": "completed"
    },
    "tags": []
   },
   "outputs": [
    {
     "data": {
      "text/plain": [
       "0        2\n",
       "1        9\n",
       "2        6\n",
       "3        0\n",
       "4        3\n",
       "        ..\n",
       "59995    9\n",
       "59996    1\n",
       "59997    8\n",
       "59998    8\n",
       "59999    7\n",
       "Name: label, Length: 60000, dtype: int64"
      ]
     },
     "execution_count": 5,
     "metadata": {},
     "output_type": "execute_result"
    }
   ],
   "source": [
    "train_df[\"label\"]"
   ]
  },
  {
   "cell_type": "code",
   "execution_count": 6,
   "id": "ecc71682",
   "metadata": {
    "execution": {
     "iopub.execute_input": "2022-12-31T20:29:04.052206Z",
     "iopub.status.busy": "2022-12-31T20:29:04.051832Z",
     "iopub.status.idle": "2022-12-31T20:29:04.065576Z",
     "shell.execute_reply": "2022-12-31T20:29:04.063970Z"
    },
    "papermill": {
     "duration": 0.02511,
     "end_time": "2022-12-31T20:29:04.067988",
     "exception": false,
     "start_time": "2022-12-31T20:29:04.042878",
     "status": "completed"
    },
    "tags": []
   },
   "outputs": [
    {
     "name": "stdout",
     "output_type": "stream",
     "text": [
      "Pullover:6000\n",
      "Ankle boot:6000\n",
      "Shirt:6000\n",
      "T_shirt/top:6000\n",
      "Dress:6000\n",
      "Coat:6000\n",
      "Sandal:6000\n",
      "Bag:6000\n",
      "Sneaker:6000\n",
      "Trouser:6000\n"
     ]
    }
   ],
   "source": [
    "class_names = ['T_shirt/top', 'Trouser', 'Pullover', 'Dress', 'Coat', \n",
    "               'Sandal', 'Shirt', 'Sneaker', 'Bag', 'Ankle boot']\n",
    "label_counts = train_df[\"label\"].value_counts()\n",
    "for i in range(len(label_counts)):\n",
    "    label = class_names[label_counts.index[i]]\n",
    "    count = label_counts.values[i]\n",
    "    print(\"{}:{}\".format(label,count))"
   ]
  },
  {
   "cell_type": "code",
   "execution_count": 7,
   "id": "57390038",
   "metadata": {
    "execution": {
     "iopub.execute_input": "2022-12-31T20:29:04.087827Z",
     "iopub.status.busy": "2022-12-31T20:29:04.086563Z",
     "iopub.status.idle": "2022-12-31T20:29:04.094665Z",
     "shell.execute_reply": "2022-12-31T20:29:04.093335Z"
    },
    "papermill": {
     "duration": 0.020694,
     "end_time": "2022-12-31T20:29:04.097710",
     "exception": false,
     "start_time": "2022-12-31T20:29:04.077016",
     "status": "completed"
    },
    "tags": []
   },
   "outputs": [
    {
     "name": "stdout",
     "output_type": "stream",
     "text": [
      "T_shirt/top:1000\n",
      "Trouser:1000\n",
      "Pullover:1000\n",
      "Dress:1000\n",
      "Bag:1000\n",
      "Shirt:1000\n",
      "Sandal:1000\n",
      "Coat:1000\n",
      "Sneaker:1000\n",
      "Ankle boot:1000\n"
     ]
    }
   ],
   "source": [
    "label_counts_test = test_df[\"label\"].value_counts()\n",
    "for i in range(len(label_counts_test)):\n",
    "    label = class_names[label_counts_test.index[i]]\n",
    "    count = label_counts_test.values[i]\n",
    "    print(\"{}:{}\".format(label,count))"
   ]
  },
  {
   "cell_type": "code",
   "execution_count": 8,
   "id": "6470e4d9",
   "metadata": {
    "execution": {
     "iopub.execute_input": "2022-12-31T20:29:04.116850Z",
     "iopub.status.busy": "2022-12-31T20:29:04.115946Z",
     "iopub.status.idle": "2022-12-31T20:29:04.291783Z",
     "shell.execute_reply": "2022-12-31T20:29:04.290590Z"
    },
    "papermill": {
     "duration": 0.188065,
     "end_time": "2022-12-31T20:29:04.294501",
     "exception": false,
     "start_time": "2022-12-31T20:29:04.106436",
     "status": "completed"
    },
    "tags": []
   },
   "outputs": [
    {
     "data": {
      "text/plain": [
       "60000"
      ]
     },
     "execution_count": 8,
     "metadata": {},
     "output_type": "execute_result"
    }
   ],
   "source": [
    "train_data = np.array(train_df, dtype='float32')\n",
    "test_data = np.array(test_df, dtype='float32')\n",
    "len(train_data)"
   ]
  },
  {
   "cell_type": "markdown",
   "id": "a10cd05d",
   "metadata": {
    "papermill": {
     "duration": 0.007768,
     "end_time": "2022-12-31T20:29:04.310665",
     "exception": false,
     "start_time": "2022-12-31T20:29:04.302897",
     "status": "completed"
    },
    "tags": []
   },
   "source": [
    "Idea to split data and scale it in the following manner inspired from Pavan Sanagapati's model"
   ]
  },
  {
   "cell_type": "code",
   "execution_count": 9,
   "id": "66b98f90",
   "metadata": {
    "execution": {
     "iopub.execute_input": "2022-12-31T20:29:04.328731Z",
     "iopub.status.busy": "2022-12-31T20:29:04.328347Z",
     "iopub.status.idle": "2022-12-31T20:29:04.395024Z",
     "shell.execute_reply": "2022-12-31T20:29:04.393889Z"
    },
    "papermill": {
     "duration": 0.078968,
     "end_time": "2022-12-31T20:29:04.397659",
     "exception": false,
     "start_time": "2022-12-31T20:29:04.318691",
     "status": "completed"
    },
    "tags": []
   },
   "outputs": [],
   "source": [
    "x_train = train_data[:,1:]/255 #Feature Scaling\n",
    "y_train = train_data[:,0]\n",
    "x_test = test_data[:,1:]/255\n",
    "y_test = test_data[:,0]\n"
   ]
  },
  {
   "cell_type": "code",
   "execution_count": 10,
   "id": "6aa5fbec",
   "metadata": {
    "execution": {
     "iopub.execute_input": "2022-12-31T20:29:04.416241Z",
     "iopub.status.busy": "2022-12-31T20:29:04.415858Z",
     "iopub.status.idle": "2022-12-31T20:29:04.923276Z",
     "shell.execute_reply": "2022-12-31T20:29:04.922101Z"
    },
    "papermill": {
     "duration": 0.520065,
     "end_time": "2022-12-31T20:29:04.925979",
     "exception": false,
     "start_time": "2022-12-31T20:29:04.405914",
     "status": "completed"
    },
    "tags": []
   },
   "outputs": [],
   "source": [
    "x_train, x_cv, y_train, y_cv = train_test_split(x_train,y_train,test_size = 0.2, random_state = 2023)"
   ]
  },
  {
   "cell_type": "code",
   "execution_count": 11,
   "id": "ca9eb1f8",
   "metadata": {
    "execution": {
     "iopub.execute_input": "2022-12-31T20:29:04.944334Z",
     "iopub.status.busy": "2022-12-31T20:29:04.943949Z",
     "iopub.status.idle": "2022-12-31T20:29:04.948714Z",
     "shell.execute_reply": "2022-12-31T20:29:04.947546Z"
    },
    "papermill": {
     "duration": 0.016605,
     "end_time": "2022-12-31T20:29:04.950886",
     "exception": false,
     "start_time": "2022-12-31T20:29:04.934281",
     "status": "completed"
    },
    "tags": []
   },
   "outputs": [],
   "source": [
    "num_rows = 28\n",
    "num_cols = 28"
   ]
  },
  {
   "cell_type": "markdown",
   "id": "2fdc08dd",
   "metadata": {
    "papermill": {
     "duration": 0.008138,
     "end_time": "2022-12-31T20:29:04.967215",
     "exception": false,
     "start_time": "2022-12-31T20:29:04.959077",
     "status": "completed"
    },
    "tags": []
   },
   "source": [
    "Reshaping the array's that were created before into shape (28,28,1) "
   ]
  },
  {
   "cell_type": "code",
   "execution_count": 12,
   "id": "3dafbd43",
   "metadata": {
    "execution": {
     "iopub.execute_input": "2022-12-31T20:29:04.986490Z",
     "iopub.status.busy": "2022-12-31T20:29:04.985760Z",
     "iopub.status.idle": "2022-12-31T20:29:04.990944Z",
     "shell.execute_reply": "2022-12-31T20:29:04.990059Z"
    },
    "papermill": {
     "duration": 0.016983,
     "end_time": "2022-12-31T20:29:04.993188",
     "exception": false,
     "start_time": "2022-12-31T20:29:04.976205",
     "status": "completed"
    },
    "tags": []
   },
   "outputs": [],
   "source": [
    "x_train = x_train.reshape(x_train.shape[0],num_rows,num_cols,1)\n",
    "x_test = x_test.reshape(x_test.shape[0],num_rows,num_cols,1)\n",
    "x_cv = x_cv.reshape(x_cv.shape[0],num_rows,num_cols,1)"
   ]
  },
  {
   "cell_type": "markdown",
   "id": "b69cf3d0",
   "metadata": {
    "papermill": {
     "duration": 0.007911,
     "end_time": "2022-12-31T20:29:05.009448",
     "exception": false,
     "start_time": "2022-12-31T20:29:05.001537",
     "status": "completed"
    },
    "tags": []
   },
   "source": [
    "# Convolutional Neural Network Model\n",
    "Using a sequential neural network, a convolutional layer with 32 filters and a kernel size of (3,3), ie. a filter of size 3, using an activation function of ReLU is followed by using maxpooling to change shapes into (2,2). Repeated again with 64 filters before being flattened and processed through a dense ReLU layer and the final output layer being softmax"
   ]
  },
  {
   "cell_type": "code",
   "execution_count": 13,
   "id": "a77b2390",
   "metadata": {
    "execution": {
     "iopub.execute_input": "2022-12-31T20:29:05.027706Z",
     "iopub.status.busy": "2022-12-31T20:29:05.027289Z",
     "iopub.status.idle": "2022-12-31T20:29:05.362403Z",
     "shell.execute_reply": "2022-12-31T20:29:05.361142Z"
    },
    "papermill": {
     "duration": 0.347392,
     "end_time": "2022-12-31T20:29:05.364954",
     "exception": false,
     "start_time": "2022-12-31T20:29:05.017562",
     "status": "completed"
    },
    "tags": []
   },
   "outputs": [
    {
     "name": "stderr",
     "output_type": "stream",
     "text": [
      "2022-12-31 20:29:05.256221: I tensorflow/core/common_runtime/process_util.cc:146] Creating new thread pool with default inter op setting: 2. Tune using inter_op_parallelism_threads for best performance.\n"
     ]
    }
   ],
   "source": [
    "model = Sequential([\n",
    "    Conv2D(filters=32,kernel_size=(3,3), activation='relu', input_shape=(num_rows,num_cols,1)),\n",
    "    MaxPooling2D((2,2)),\n",
    "    Conv2D(filters=64, kernel_size=(3,3), activation='relu'),\n",
    "    MaxPooling2D((2,2)),\n",
    "    Conv2D(filters=128,kernel_size=(3,3),activation='relu'),\n",
    "    Flatten(),\n",
    "    Dense(32,activation='relu'),\n",
    "    Dense(10,activation='softmax')\n",
    "])"
   ]
  },
  {
   "cell_type": "code",
   "execution_count": 14,
   "id": "884f82b4",
   "metadata": {
    "execution": {
     "iopub.execute_input": "2022-12-31T20:29:05.384032Z",
     "iopub.status.busy": "2022-12-31T20:29:05.382900Z",
     "iopub.status.idle": "2022-12-31T20:29:05.398235Z",
     "shell.execute_reply": "2022-12-31T20:29:05.396867Z"
    },
    "papermill": {
     "duration": 0.027578,
     "end_time": "2022-12-31T20:29:05.400877",
     "exception": false,
     "start_time": "2022-12-31T20:29:05.373299",
     "status": "completed"
    },
    "tags": []
   },
   "outputs": [
    {
     "name": "stdout",
     "output_type": "stream",
     "text": [
      "Model: \"sequential\"\n",
      "_________________________________________________________________\n",
      "Layer (type)                 Output Shape              Param #   \n",
      "=================================================================\n",
      "conv2d (Conv2D)              (None, 26, 26, 32)        320       \n",
      "_________________________________________________________________\n",
      "max_pooling2d (MaxPooling2D) (None, 13, 13, 32)        0         \n",
      "_________________________________________________________________\n",
      "conv2d_1 (Conv2D)            (None, 11, 11, 64)        18496     \n",
      "_________________________________________________________________\n",
      "max_pooling2d_1 (MaxPooling2 (None, 5, 5, 64)          0         \n",
      "_________________________________________________________________\n",
      "conv2d_2 (Conv2D)            (None, 3, 3, 128)         73856     \n",
      "_________________________________________________________________\n",
      "flatten (Flatten)            (None, 1152)              0         \n",
      "_________________________________________________________________\n",
      "dense (Dense)                (None, 32)                36896     \n",
      "_________________________________________________________________\n",
      "dense_1 (Dense)              (None, 10)                330       \n",
      "=================================================================\n",
      "Total params: 129,898\n",
      "Trainable params: 129,898\n",
      "Non-trainable params: 0\n",
      "_________________________________________________________________\n"
     ]
    }
   ],
   "source": [
    "model.compile(loss='sparse_categorical_crossentropy', optimizer='adam',metrics=['accuracy'])\n",
    "model.summary()"
   ]
  },
  {
   "cell_type": "code",
   "execution_count": 15,
   "id": "1f04f2f4",
   "metadata": {
    "execution": {
     "iopub.execute_input": "2022-12-31T20:29:05.421831Z",
     "iopub.status.busy": "2022-12-31T20:29:05.420939Z",
     "iopub.status.idle": "2022-12-31T20:41:56.507789Z",
     "shell.execute_reply": "2022-12-31T20:41:56.506830Z"
    },
    "papermill": {
     "duration": 771.099339,
     "end_time": "2022-12-31T20:41:56.510397",
     "exception": false,
     "start_time": "2022-12-31T20:29:05.411058",
     "status": "completed"
    },
    "tags": []
   },
   "outputs": [
    {
     "name": "stderr",
     "output_type": "stream",
     "text": [
      "2022-12-31 20:29:05.629706: I tensorflow/compiler/mlir/mlir_graph_optimization_pass.cc:185] None of the MLIR Optimization Passes are enabled (registered 2)\n"
     ]
    },
    {
     "name": "stdout",
     "output_type": "stream",
     "text": [
      "Epoch 1/50\n",
      "375/375 [==============================] - 17s 42ms/step - loss: 0.6922 - accuracy: 0.7439 - val_loss: 0.4555 - val_accuracy: 0.8283\n",
      "Epoch 2/50\n",
      "375/375 [==============================] - 15s 40ms/step - loss: 0.4115 - accuracy: 0.8534 - val_loss: 0.3574 - val_accuracy: 0.8718\n",
      "Epoch 3/50\n",
      "375/375 [==============================] - 16s 42ms/step - loss: 0.3484 - accuracy: 0.8752 - val_loss: 0.3449 - val_accuracy: 0.8762\n",
      "Epoch 4/50\n",
      "375/375 [==============================] - 15s 39ms/step - loss: 0.3141 - accuracy: 0.8864 - val_loss: 0.3161 - val_accuracy: 0.8867\n",
      "Epoch 5/50\n",
      "375/375 [==============================] - 16s 41ms/step - loss: 0.2865 - accuracy: 0.8965 - val_loss: 0.3060 - val_accuracy: 0.8867\n",
      "Epoch 6/50\n",
      "375/375 [==============================] - 15s 39ms/step - loss: 0.2665 - accuracy: 0.9041 - val_loss: 0.2758 - val_accuracy: 0.8991\n",
      "Epoch 7/50\n",
      "375/375 [==============================] - 15s 41ms/step - loss: 0.2492 - accuracy: 0.9101 - val_loss: 0.2637 - val_accuracy: 0.9072\n",
      "Epoch 8/50\n",
      "375/375 [==============================] - 15s 40ms/step - loss: 0.2338 - accuracy: 0.9143 - val_loss: 0.2647 - val_accuracy: 0.9037\n",
      "Epoch 9/50\n",
      "375/375 [==============================] - 15s 41ms/step - loss: 0.2171 - accuracy: 0.9208 - val_loss: 0.2573 - val_accuracy: 0.9078\n",
      "Epoch 10/50\n",
      "375/375 [==============================] - 15s 39ms/step - loss: 0.2025 - accuracy: 0.9269 - val_loss: 0.2567 - val_accuracy: 0.9089\n",
      "Epoch 11/50\n",
      "375/375 [==============================] - 16s 42ms/step - loss: 0.1892 - accuracy: 0.9312 - val_loss: 0.2684 - val_accuracy: 0.9089\n",
      "Epoch 12/50\n",
      "375/375 [==============================] - 15s 40ms/step - loss: 0.1791 - accuracy: 0.9339 - val_loss: 0.2665 - val_accuracy: 0.9080\n",
      "Epoch 13/50\n",
      "375/375 [==============================] - 16s 42ms/step - loss: 0.1631 - accuracy: 0.9402 - val_loss: 0.2580 - val_accuracy: 0.9080\n",
      "Epoch 14/50\n",
      "375/375 [==============================] - 15s 40ms/step - loss: 0.1547 - accuracy: 0.9429 - val_loss: 0.2564 - val_accuracy: 0.9111\n",
      "Epoch 15/50\n",
      "375/375 [==============================] - 16s 41ms/step - loss: 0.1426 - accuracy: 0.9479 - val_loss: 0.2657 - val_accuracy: 0.9108\n",
      "Epoch 16/50\n",
      "375/375 [==============================] - 15s 40ms/step - loss: 0.1299 - accuracy: 0.9526 - val_loss: 0.2693 - val_accuracy: 0.9108\n",
      "Epoch 17/50\n",
      "375/375 [==============================] - 16s 41ms/step - loss: 0.1175 - accuracy: 0.9571 - val_loss: 0.2758 - val_accuracy: 0.9107\n",
      "Epoch 18/50\n",
      "375/375 [==============================] - 15s 40ms/step - loss: 0.1086 - accuracy: 0.9594 - val_loss: 0.2921 - val_accuracy: 0.9122\n",
      "Epoch 19/50\n",
      "375/375 [==============================] - 16s 42ms/step - loss: 0.1005 - accuracy: 0.9627 - val_loss: 0.3048 - val_accuracy: 0.9072\n",
      "Epoch 20/50\n",
      "375/375 [==============================] - 15s 40ms/step - loss: 0.0942 - accuracy: 0.9645 - val_loss: 0.3165 - val_accuracy: 0.9034\n",
      "Epoch 21/50\n",
      "375/375 [==============================] - 15s 40ms/step - loss: 0.0830 - accuracy: 0.9699 - val_loss: 0.3193 - val_accuracy: 0.9096\n",
      "Epoch 22/50\n",
      "375/375 [==============================] - 16s 42ms/step - loss: 0.0766 - accuracy: 0.9720 - val_loss: 0.3512 - val_accuracy: 0.9081\n",
      "Epoch 23/50\n",
      "375/375 [==============================] - 15s 40ms/step - loss: 0.0720 - accuracy: 0.9737 - val_loss: 0.3335 - val_accuracy: 0.9106\n",
      "Epoch 24/50\n",
      "375/375 [==============================] - 16s 43ms/step - loss: 0.0616 - accuracy: 0.9782 - val_loss: 0.3545 - val_accuracy: 0.9090\n",
      "Epoch 25/50\n",
      "375/375 [==============================] - 15s 40ms/step - loss: 0.0611 - accuracy: 0.9779 - val_loss: 0.3811 - val_accuracy: 0.9029\n",
      "Epoch 26/50\n",
      "375/375 [==============================] - 17s 44ms/step - loss: 0.0556 - accuracy: 0.9800 - val_loss: 0.3862 - val_accuracy: 0.9053\n",
      "Epoch 27/50\n",
      "375/375 [==============================] - 15s 40ms/step - loss: 0.0527 - accuracy: 0.9815 - val_loss: 0.3988 - val_accuracy: 0.9084\n",
      "Epoch 28/50\n",
      "375/375 [==============================] - 16s 43ms/step - loss: 0.0448 - accuracy: 0.9835 - val_loss: 0.4046 - val_accuracy: 0.9091\n",
      "Epoch 29/50\n",
      "375/375 [==============================] - 15s 40ms/step - loss: 0.0417 - accuracy: 0.9843 - val_loss: 0.4475 - val_accuracy: 0.9010\n",
      "Epoch 30/50\n",
      "375/375 [==============================] - 16s 43ms/step - loss: 0.0370 - accuracy: 0.9864 - val_loss: 0.4541 - val_accuracy: 0.9065\n",
      "Epoch 31/50\n",
      "375/375 [==============================] - 15s 40ms/step - loss: 0.0333 - accuracy: 0.9887 - val_loss: 0.4654 - val_accuracy: 0.9099\n",
      "Epoch 32/50\n",
      "375/375 [==============================] - 16s 43ms/step - loss: 0.0342 - accuracy: 0.9881 - val_loss: 0.4703 - val_accuracy: 0.9072\n",
      "Epoch 33/50\n",
      "375/375 [==============================] - 15s 40ms/step - loss: 0.0354 - accuracy: 0.9872 - val_loss: 0.4931 - val_accuracy: 0.9096\n",
      "Epoch 34/50\n",
      "375/375 [==============================] - 16s 43ms/step - loss: 0.0284 - accuracy: 0.9899 - val_loss: 0.4815 - val_accuracy: 0.9087\n",
      "Epoch 35/50\n",
      "375/375 [==============================] - 15s 40ms/step - loss: 0.0307 - accuracy: 0.9890 - val_loss: 0.5308 - val_accuracy: 0.9051\n",
      "Epoch 36/50\n",
      "375/375 [==============================] - 16s 43ms/step - loss: 0.0286 - accuracy: 0.9896 - val_loss: 0.5314 - val_accuracy: 0.9093\n",
      "Epoch 37/50\n",
      "375/375 [==============================] - 15s 39ms/step - loss: 0.0239 - accuracy: 0.9915 - val_loss: 0.5245 - val_accuracy: 0.9105\n",
      "Epoch 38/50\n",
      "375/375 [==============================] - 16s 43ms/step - loss: 0.0275 - accuracy: 0.9904 - val_loss: 0.5586 - val_accuracy: 0.9099\n",
      "Epoch 39/50\n",
      "375/375 [==============================] - 15s 40ms/step - loss: 0.0240 - accuracy: 0.9910 - val_loss: 0.5802 - val_accuracy: 0.9028\n",
      "Epoch 40/50\n",
      "375/375 [==============================] - 16s 43ms/step - loss: 0.0286 - accuracy: 0.9891 - val_loss: 0.5637 - val_accuracy: 0.9086\n",
      "Epoch 41/50\n",
      "375/375 [==============================] - 15s 39ms/step - loss: 0.0216 - accuracy: 0.9920 - val_loss: 0.6222 - val_accuracy: 0.9078\n",
      "Epoch 42/50\n",
      "375/375 [==============================] - 16s 43ms/step - loss: 0.0250 - accuracy: 0.9911 - val_loss: 0.6065 - val_accuracy: 0.9039\n",
      "Epoch 43/50\n",
      "375/375 [==============================] - 15s 40ms/step - loss: 0.0178 - accuracy: 0.9934 - val_loss: 0.6590 - val_accuracy: 0.9073\n",
      "Epoch 44/50\n",
      "375/375 [==============================] - 16s 43ms/step - loss: 0.0174 - accuracy: 0.9934 - val_loss: 0.6017 - val_accuracy: 0.9052\n",
      "Epoch 45/50\n",
      "375/375 [==============================] - 15s 40ms/step - loss: 0.0328 - accuracy: 0.9884 - val_loss: 0.6166 - val_accuracy: 0.9066\n",
      "Epoch 46/50\n",
      "375/375 [==============================] - 16s 42ms/step - loss: 0.0240 - accuracy: 0.9918 - val_loss: 0.6605 - val_accuracy: 0.9113\n",
      "Epoch 47/50\n",
      "375/375 [==============================] - 15s 39ms/step - loss: 0.0209 - accuracy: 0.9926 - val_loss: 0.6640 - val_accuracy: 0.9101\n",
      "Epoch 48/50\n",
      "375/375 [==============================] - 16s 43ms/step - loss: 0.0140 - accuracy: 0.9949 - val_loss: 0.6767 - val_accuracy: 0.9085\n",
      "Epoch 49/50\n",
      "375/375 [==============================] - 15s 40ms/step - loss: 0.0167 - accuracy: 0.9949 - val_loss: 0.6364 - val_accuracy: 0.8997\n",
      "Epoch 50/50\n",
      "375/375 [==============================] - 16s 43ms/step - loss: 0.0252 - accuracy: 0.9904 - val_loss: 0.7340 - val_accuracy: 0.9013\n"
     ]
    }
   ],
   "source": [
    "trained_model = model.fit(x_train,\n",
    "                         y_train,\n",
    "                         batch_size=128,\n",
    "                         epochs=50,\n",
    "                         \n",
    "                         validation_data=(x_cv,y_cv))"
   ]
  },
  {
   "cell_type": "code",
   "execution_count": 16,
   "id": "69c4c6b1",
   "metadata": {
    "execution": {
     "iopub.execute_input": "2022-12-31T20:41:57.797581Z",
     "iopub.status.busy": "2022-12-31T20:41:57.796743Z",
     "iopub.status.idle": "2022-12-31T20:41:58.201286Z",
     "shell.execute_reply": "2022-12-31T20:41:58.199891Z"
    },
    "papermill": {
     "duration": 1.08565,
     "end_time": "2022-12-31T20:41:58.204054",
     "exception": false,
     "start_time": "2022-12-31T20:41:57.118404",
     "status": "completed"
    },
    "tags": []
   },
   "outputs": [
    {
     "data": {
      "text/plain": [
       "Text(0.5, 1.0, 'Training- Accuaracy')"
      ]
     },
     "execution_count": 16,
     "metadata": {},
     "output_type": "execute_result"
    },
    {
     "data": {
      "image/png": "[encoded data removed]",
      "text/plain": [
       "<Figure size 720x720 with 2 Axes>"
      ]
     },
     "metadata": {
      "needs_background": "light"
     },
     "output_type": "display_data"
    }
   ],
   "source": [
    "plt.figure(figsize=(10,10))\n",
    "\n",
    "plt.subplot(2,2,1)\n",
    "plt.plot(trained_model.history['loss'], label='Loss')\n",
    "plt.plot(trained_model.history['val_loss'], label='Validation Loss')\n",
    "plt.legend()\n",
    "plt.title('Training - Loss Function')\n",
    "\n",
    "plt.subplot(2,2,2)\n",
    "plt.plot(trained_model.history['accuracy'], label='Accuracy')\n",
    "plt.plot(trained_model.history['val_accuracy'], label='Validation Accuracy')\n",
    "plt.legend()\n",
    "plt.title('Training- Accuaracy')\n",
    "\n"
   ]
  },
  {
   "cell_type": "markdown",
   "id": "7c7166ee",
   "metadata": {
    "papermill": {
     "duration": 0.598399,
     "end_time": "2022-12-31T20:41:59.416652",
     "exception": false,
     "start_time": "2022-12-31T20:41:58.818253",
     "status": "completed"
    },
    "tags": []
   },
   "source": [
    "As can be seen, validation loss is increasing while validation accuracy is constant. Overfitting is likely occuring"
   ]
  },
  {
   "cell_type": "markdown",
   "id": "6c1425f8",
   "metadata": {
    "papermill": {
     "duration": 0.596528,
     "end_time": "2022-12-31T20:42:00.664254",
     "exception": false,
     "start_time": "2022-12-31T20:42:00.067726",
     "status": "completed"
    },
    "tags": []
   },
   "source": [
    "Overfitting can be alleviated through using dropout layers"
   ]
  },
  {
   "cell_type": "markdown",
   "id": "3f24e5c0",
   "metadata": {
    "papermill": {
     "duration": 0.594368,
     "end_time": "2022-12-31T20:42:01.918840",
     "exception": false,
     "start_time": "2022-12-31T20:42:01.324472",
     "status": "completed"
    },
    "tags": []
   },
   "source": [
    "Use of dropout layer's inspired from Pavan Sanagapati's model"
   ]
  },
  {
   "cell_type": "code",
   "execution_count": 17,
   "id": "b9e97ddb",
   "metadata": {
    "execution": {
     "iopub.execute_input": "2022-12-31T20:42:03.170462Z",
     "iopub.status.busy": "2022-12-31T20:42:03.170071Z",
     "iopub.status.idle": "2022-12-31T20:42:03.242013Z",
     "shell.execute_reply": "2022-12-31T20:42:03.241146Z"
    },
    "papermill": {
     "duration": 0.668969,
     "end_time": "2022-12-31T20:42:03.244407",
     "exception": false,
     "start_time": "2022-12-31T20:42:02.575438",
     "status": "completed"
    },
    "tags": []
   },
   "outputs": [],
   "source": [
    "model = Sequential([\n",
    "    Conv2D(filters=32,kernel_size=(3,3), activation='relu', input_shape=(num_rows,num_cols,1)),\n",
    "    MaxPooling2D((2,2)),\n",
    "    Dropout(0.3),\n",
    "    Conv2D(filters=64, kernel_size=(3,3), activation='relu'),\n",
    "    MaxPooling2D((2,2)),\n",
    "    Dropout(0.5),\n",
    "    Conv2D(filters=128,kernel_size=(3,3),activation='relu'),\n",
    "    Dropout(0.25),\n",
    "    Flatten(),\n",
    "    Dropout(0.4),\n",
    "    Dense(32,activation='relu'),\n",
    "    Dense(10,activation='softmax')\n",
    "])"
   ]
  },
  {
   "cell_type": "code",
   "execution_count": 18,
   "id": "40357352",
   "metadata": {
    "execution": {
     "iopub.execute_input": "2022-12-31T20:42:04.491241Z",
     "iopub.status.busy": "2022-12-31T20:42:04.490846Z",
     "iopub.status.idle": "2022-12-31T20:42:04.503362Z",
     "shell.execute_reply": "2022-12-31T20:42:04.501849Z"
    },
    "papermill": {
     "duration": 0.671987,
     "end_time": "2022-12-31T20:42:04.505950",
     "exception": false,
     "start_time": "2022-12-31T20:42:03.833963",
     "status": "completed"
    },
    "tags": []
   },
   "outputs": [
    {
     "name": "stdout",
     "output_type": "stream",
     "text": [
      "Model: \"sequential_1\"\n",
      "_________________________________________________________________\n",
      "Layer (type)                 Output Shape              Param #   \n",
      "=================================================================\n",
      "conv2d_3 (Conv2D)            (None, 26, 26, 32)        320       \n",
      "_________________________________________________________________\n",
      "max_pooling2d_2 (MaxPooling2 (None, 13, 13, 32)        0         \n",
      "_________________________________________________________________\n",
      "dropout (Dropout)            (None, 13, 13, 32)        0         \n",
      "_________________________________________________________________\n",
      "conv2d_4 (Conv2D)            (None, 11, 11, 64)        18496     \n",
      "_________________________________________________________________\n",
      "max_pooling2d_3 (MaxPooling2 (None, 5, 5, 64)          0         \n",
      "_________________________________________________________________\n",
      "dropout_1 (Dropout)          (None, 5, 5, 64)          0         \n",
      "_________________________________________________________________\n",
      "conv2d_5 (Conv2D)            (None, 3, 3, 128)         73856     \n",
      "_________________________________________________________________\n",
      "dropout_2 (Dropout)          (None, 3, 3, 128)         0         \n",
      "_________________________________________________________________\n",
      "flatten_1 (Flatten)          (None, 1152)              0         \n",
      "_________________________________________________________________\n",
      "dropout_3 (Dropout)          (None, 1152)              0         \n",
      "_________________________________________________________________\n",
      "dense_2 (Dense)              (None, 32)                36896     \n",
      "_________________________________________________________________\n",
      "dense_3 (Dense)              (None, 10)                330       \n",
      "=================================================================\n",
      "Total params: 129,898\n",
      "Trainable params: 129,898\n",
      "Non-trainable params: 0\n",
      "_________________________________________________________________\n"
     ]
    }
   ],
   "source": [
    "model.compile(loss='sparse_categorical_crossentropy', optimizer='adam',metrics=['accuracy'])\n",
    "model.summary()"
   ]
  },
  {
   "cell_type": "code",
   "execution_count": 19,
   "id": "673aaef7",
   "metadata": {
    "execution": {
     "iopub.execute_input": "2022-12-31T20:42:05.788553Z",
     "iopub.status.busy": "2022-12-31T20:42:05.787646Z",
     "iopub.status.idle": "2022-12-31T20:57:43.134758Z",
     "shell.execute_reply": "2022-12-31T20:57:43.133544Z"
    },
    "papermill": {
     "duration": 938.216992,
     "end_time": "2022-12-31T20:57:43.348542",
     "exception": false,
     "start_time": "2022-12-31T20:42:05.131550",
     "status": "completed"
    },
    "tags": []
   },
   "outputs": [
    {
     "name": "stdout",
     "output_type": "stream",
     "text": [
      "Epoch 1/50\n",
      "375/375 [==============================] - 19s 50ms/step - loss: 0.8373 - accuracy: 0.6872 - val_loss: 0.5057 - val_accuracy: 0.8124\n",
      "Epoch 2/50\n",
      "375/375 [==============================] - 18s 49ms/step - loss: 0.5288 - accuracy: 0.8035 - val_loss: 0.4174 - val_accuracy: 0.8458\n",
      "Epoch 3/50\n",
      "375/375 [==============================] - 19s 50ms/step - loss: 0.4688 - accuracy: 0.8265 - val_loss: 0.3623 - val_accuracy: 0.8665\n",
      "Epoch 4/50\n",
      "375/375 [==============================] - 18s 48ms/step - loss: 0.4289 - accuracy: 0.8421 - val_loss: 0.3398 - val_accuracy: 0.8748\n",
      "Epoch 5/50\n",
      "375/375 [==============================] - 19s 49ms/step - loss: 0.4018 - accuracy: 0.8526 - val_loss: 0.3313 - val_accuracy: 0.8742\n",
      "Epoch 6/50\n",
      "375/375 [==============================] - 19s 51ms/step - loss: 0.3858 - accuracy: 0.8595 - val_loss: 0.3015 - val_accuracy: 0.8878\n",
      "Epoch 7/50\n",
      "375/375 [==============================] - 18s 49ms/step - loss: 0.3688 - accuracy: 0.8660 - val_loss: 0.3003 - val_accuracy: 0.8870\n",
      "Epoch 8/50\n",
      "375/375 [==============================] - 18s 49ms/step - loss: 0.3618 - accuracy: 0.8665 - val_loss: 0.2905 - val_accuracy: 0.8927\n",
      "Epoch 9/50\n",
      "375/375 [==============================] - 18s 49ms/step - loss: 0.3524 - accuracy: 0.8692 - val_loss: 0.2822 - val_accuracy: 0.8933\n",
      "Epoch 10/50\n",
      "375/375 [==============================] - 19s 51ms/step - loss: 0.3418 - accuracy: 0.8744 - val_loss: 0.2805 - val_accuracy: 0.8957\n",
      "Epoch 11/50\n",
      "375/375 [==============================] - 18s 48ms/step - loss: 0.3344 - accuracy: 0.8758 - val_loss: 0.2709 - val_accuracy: 0.8976\n",
      "Epoch 12/50\n",
      "375/375 [==============================] - 19s 51ms/step - loss: 0.3296 - accuracy: 0.8781 - val_loss: 0.2615 - val_accuracy: 0.9013\n",
      "Epoch 13/50\n",
      "375/375 [==============================] - 19s 50ms/step - loss: 0.3208 - accuracy: 0.8810 - val_loss: 0.2619 - val_accuracy: 0.9028\n",
      "Epoch 14/50\n",
      "375/375 [==============================] - 18s 49ms/step - loss: 0.3198 - accuracy: 0.8826 - val_loss: 0.2714 - val_accuracy: 0.8967\n",
      "Epoch 15/50\n",
      "375/375 [==============================] - 19s 50ms/step - loss: 0.3198 - accuracy: 0.8824 - val_loss: 0.2587 - val_accuracy: 0.9016\n",
      "Epoch 16/50\n",
      "375/375 [==============================] - 18s 49ms/step - loss: 0.3119 - accuracy: 0.8841 - val_loss: 0.2567 - val_accuracy: 0.9047\n",
      "Epoch 17/50\n",
      "375/375 [==============================] - 19s 50ms/step - loss: 0.3062 - accuracy: 0.8868 - val_loss: 0.2487 - val_accuracy: 0.9053\n",
      "Epoch 18/50\n",
      "375/375 [==============================] - 19s 51ms/step - loss: 0.3080 - accuracy: 0.8862 - val_loss: 0.2482 - val_accuracy: 0.9080\n",
      "Epoch 19/50\n",
      "375/375 [==============================] - 18s 49ms/step - loss: 0.3036 - accuracy: 0.8867 - val_loss: 0.2538 - val_accuracy: 0.9053\n",
      "Epoch 20/50\n",
      "375/375 [==============================] - 18s 49ms/step - loss: 0.2992 - accuracy: 0.8877 - val_loss: 0.2487 - val_accuracy: 0.9077\n",
      "Epoch 21/50\n",
      "375/375 [==============================] - 18s 49ms/step - loss: 0.2956 - accuracy: 0.8907 - val_loss: 0.2466 - val_accuracy: 0.9061\n",
      "Epoch 22/50\n",
      "375/375 [==============================] - 18s 49ms/step - loss: 0.2913 - accuracy: 0.8928 - val_loss: 0.2449 - val_accuracy: 0.9119\n",
      "Epoch 23/50\n",
      "375/375 [==============================] - 19s 51ms/step - loss: 0.2982 - accuracy: 0.8899 - val_loss: 0.2434 - val_accuracy: 0.9089\n",
      "Epoch 24/50\n",
      "375/375 [==============================] - 18s 48ms/step - loss: 0.2911 - accuracy: 0.8930 - val_loss: 0.2401 - val_accuracy: 0.9097\n",
      "Epoch 25/50\n",
      "375/375 [==============================] - 19s 52ms/step - loss: 0.2869 - accuracy: 0.8942 - val_loss: 0.2349 - val_accuracy: 0.9131\n",
      "Epoch 26/50\n",
      "375/375 [==============================] - 19s 50ms/step - loss: 0.2840 - accuracy: 0.8944 - val_loss: 0.2455 - val_accuracy: 0.9066\n",
      "Epoch 27/50\n",
      "375/375 [==============================] - 19s 50ms/step - loss: 0.2852 - accuracy: 0.8939 - val_loss: 0.2324 - val_accuracy: 0.9113\n",
      "Epoch 28/50\n",
      "375/375 [==============================] - 19s 49ms/step - loss: 0.2827 - accuracy: 0.8941 - val_loss: 0.2297 - val_accuracy: 0.9138\n",
      "Epoch 29/50\n",
      "375/375 [==============================] - 19s 50ms/step - loss: 0.2815 - accuracy: 0.8961 - val_loss: 0.2638 - val_accuracy: 0.8999\n",
      "Epoch 30/50\n",
      "375/375 [==============================] - 19s 52ms/step - loss: 0.2799 - accuracy: 0.8960 - val_loss: 0.2420 - val_accuracy: 0.9103\n",
      "Epoch 31/50\n",
      "375/375 [==============================] - 19s 51ms/step - loss: 0.2746 - accuracy: 0.8986 - val_loss: 0.2283 - val_accuracy: 0.9144\n",
      "Epoch 32/50\n",
      "375/375 [==============================] - 19s 50ms/step - loss: 0.2721 - accuracy: 0.8995 - val_loss: 0.2292 - val_accuracy: 0.9132\n",
      "Epoch 33/50\n",
      "375/375 [==============================] - 19s 50ms/step - loss: 0.2730 - accuracy: 0.8983 - val_loss: 0.2334 - val_accuracy: 0.9137\n",
      "Epoch 34/50\n",
      "375/375 [==============================] - 19s 50ms/step - loss: 0.2699 - accuracy: 0.8990 - val_loss: 0.2485 - val_accuracy: 0.9046\n",
      "Epoch 35/50\n",
      "375/375 [==============================] - 19s 52ms/step - loss: 0.2730 - accuracy: 0.8976 - val_loss: 0.2345 - val_accuracy: 0.9118\n",
      "Epoch 36/50\n",
      "375/375 [==============================] - 18s 48ms/step - loss: 0.2703 - accuracy: 0.8996 - val_loss: 0.2327 - val_accuracy: 0.9118\n",
      "Epoch 37/50\n",
      "375/375 [==============================] - 19s 52ms/step - loss: 0.2676 - accuracy: 0.8994 - val_loss: 0.2254 - val_accuracy: 0.9158\n",
      "Epoch 38/50\n",
      "375/375 [==============================] - 19s 50ms/step - loss: 0.2688 - accuracy: 0.9013 - val_loss: 0.2295 - val_accuracy: 0.9135\n",
      "Epoch 39/50\n",
      "375/375 [==============================] - 19s 51ms/step - loss: 0.2690 - accuracy: 0.9000 - val_loss: 0.2291 - val_accuracy: 0.9166\n",
      "Epoch 40/50\n",
      "375/375 [==============================] - 20s 52ms/step - loss: 0.2666 - accuracy: 0.9004 - val_loss: 0.2259 - val_accuracy: 0.9176\n",
      "Epoch 41/50\n",
      "375/375 [==============================] - 18s 48ms/step - loss: 0.2638 - accuracy: 0.9014 - val_loss: 0.2233 - val_accuracy: 0.9172\n",
      "Epoch 42/50\n",
      "375/375 [==============================] - 19s 52ms/step - loss: 0.2652 - accuracy: 0.9020 - val_loss: 0.2247 - val_accuracy: 0.9163\n",
      "Epoch 43/50\n",
      "375/375 [==============================] - 18s 48ms/step - loss: 0.2611 - accuracy: 0.9016 - val_loss: 0.2249 - val_accuracy: 0.9143\n",
      "Epoch 44/50\n",
      "375/375 [==============================] - 19s 51ms/step - loss: 0.2592 - accuracy: 0.9016 - val_loss: 0.2274 - val_accuracy: 0.9131\n",
      "Epoch 45/50\n",
      "375/375 [==============================] - 19s 51ms/step - loss: 0.2637 - accuracy: 0.9032 - val_loss: 0.2322 - val_accuracy: 0.9135\n",
      "Epoch 46/50\n",
      "375/375 [==============================] - 18s 49ms/step - loss: 0.2580 - accuracy: 0.9026 - val_loss: 0.2280 - val_accuracy: 0.9147\n",
      "Epoch 47/50\n",
      "375/375 [==============================] - 19s 51ms/step - loss: 0.2594 - accuracy: 0.9031 - val_loss: 0.2388 - val_accuracy: 0.9107\n",
      "Epoch 48/50\n",
      "375/375 [==============================] - 18s 47ms/step - loss: 0.2562 - accuracy: 0.9044 - val_loss: 0.2247 - val_accuracy: 0.9165\n",
      "Epoch 49/50\n",
      "375/375 [==============================] - 19s 51ms/step - loss: 0.2560 - accuracy: 0.9035 - val_loss: 0.2264 - val_accuracy: 0.9154\n",
      "Epoch 50/50\n",
      "375/375 [==============================] - 20s 53ms/step - loss: 0.2649 - accuracy: 0.9009 - val_loss: 0.2262 - val_accuracy: 0.9153\n"
     ]
    }
   ],
   "source": [
    "trained_model = model.fit(x_train,\n",
    "                         y_train,\n",
    "                         batch_size=128,\n",
    "                         epochs=50,\n",
    "                         \n",
    "                         validation_data=(x_cv,y_cv))"
   ]
  },
  {
   "cell_type": "code",
   "execution_count": 20,
   "id": "65806cba",
   "metadata": {
    "execution": {
     "iopub.execute_input": "2022-12-31T20:57:45.913369Z",
     "iopub.status.busy": "2022-12-31T20:57:45.912442Z",
     "iopub.status.idle": "2022-12-31T20:57:46.242098Z",
     "shell.execute_reply": "2022-12-31T20:57:46.240556Z"
    },
    "papermill": {
     "duration": 1.618012,
     "end_time": "2022-12-31T20:57:46.244682",
     "exception": false,
     "start_time": "2022-12-31T20:57:44.626670",
     "status": "completed"
    },
    "tags": []
   },
   "outputs": [
    {
     "data": {
      "text/plain": [
       "Text(0.5, 1.0, 'Training- Accuaracy')"
      ]
     },
     "execution_count": 20,
     "metadata": {},
     "output_type": "execute_result"
    },
    {
     "data": {
      "image/png": "[encoded data removed]",
      "text/plain": [
       "<Figure size 720x720 with 2 Axes>"
      ]
     },
     "metadata": {
      "needs_background": "light"
     },
     "output_type": "display_data"
    }
   ],
   "source": [
    "plt.figure(figsize=(10,10))\n",
    "\n",
    "plt.subplot(2,2,1)\n",
    "plt.plot(trained_model.history['loss'], label='Loss')\n",
    "plt.plot(trained_model.history['val_loss'], label='Validation Loss')\n",
    "plt.legend()\n",
    "plt.title('Training - Loss Function')\n",
    "\n",
    "plt.subplot(2,2,2)\n",
    "plt.plot(trained_model.history['accuracy'], label='Accuracy')\n",
    "plt.plot(trained_model.history['val_accuracy'], label='Validation Accuracy')\n",
    "plt.legend()\n",
    "plt.title('Training- Accuaracy')"
   ]
  },
  {
   "cell_type": "code",
   "execution_count": 21,
   "id": "14c4349f",
   "metadata": {
    "execution": {
     "iopub.execute_input": "2022-12-31T20:57:48.718031Z",
     "iopub.status.busy": "2022-12-31T20:57:48.716898Z",
     "iopub.status.idle": "2022-12-31T20:57:50.079787Z",
     "shell.execute_reply": "2022-12-31T20:57:50.078898Z"
    },
    "papermill": {
     "duration": 2.635073,
     "end_time": "2022-12-31T20:57:50.083670",
     "exception": false,
     "start_time": "2022-12-31T20:57:47.448597",
     "status": "completed"
    },
    "tags": []
   },
   "outputs": [
    {
     "name": "stdout",
     "output_type": "stream",
     "text": [
      "Test loss: 0.21740680932998657\n",
      "Test accuracy: 0.9204000234603882\n"
     ]
    }
   ],
   "source": [
    "score = model.evaluate(x_test, y_test, verbose=0)\n",
    "print('Test loss:', score[0])\n",
    "print('Test accuracy:', score[1])"
   ]
  },
  {
   "cell_type": "code",
   "execution_count": 22,
   "id": "239f6f6c",
   "metadata": {
    "execution": {
     "iopub.execute_input": "2022-12-31T20:57:52.660415Z",
     "iopub.status.busy": "2022-12-31T20:57:52.659733Z",
     "iopub.status.idle": "2022-12-31T20:57:54.068314Z",
     "shell.execute_reply": "2022-12-31T20:57:54.066407Z"
    },
    "papermill": {
     "duration": 2.68589,
     "end_time": "2022-12-31T20:57:54.071430",
     "exception": false,
     "start_time": "2022-12-31T20:57:51.385540",
     "status": "completed"
    },
    "tags": []
   },
   "outputs": [
    {
     "name": "stderr",
     "output_type": "stream",
     "text": [
      "/opt/conda/lib/python3.7/site-packages/tensorflow/python/keras/engine/sequential.py:455: UserWarning: `model.predict_classes()` is deprecated and will be removed after 2021-01-01. Please use instead:* `np.argmax(model.predict(x), axis=-1)`,   if your model does multi-class classification   (e.g. if it uses a `softmax` last-layer activation).* `(model.predict(x) > 0.5).astype(\"int32\")`,   if your model does binary classification   (e.g. if it uses a `sigmoid` last-layer activation).\n",
      "  warnings.warn('`model.predict_classes()` is deprecated and '\n"
     ]
    },
    {
     "name": "stdout",
     "output_type": "stream",
     "text": [
      "              precision    recall  f1-score   support\n",
      "\n",
      "     Class 0       0.87      0.87      0.87      1000\n",
      "     Class 1       0.99      0.99      0.99      1000\n",
      "     Class 2       0.90      0.85      0.88      1000\n",
      "     Class 3       0.93      0.94      0.93      1000\n",
      "     Class 4       0.86      0.90      0.88      1000\n",
      "     Class 5       0.99      0.97      0.98      1000\n",
      "     Class 6       0.77      0.75      0.76      1000\n",
      "     Class 7       0.93      0.98      0.96      1000\n",
      "     Class 8       0.98      0.99      0.98      1000\n",
      "     Class 9       0.98      0.95      0.97      1000\n",
      "\n",
      "    accuracy                           0.92     10000\n",
      "   macro avg       0.92      0.92      0.92     10000\n",
      "weighted avg       0.92      0.92      0.92     10000\n",
      "\n"
     ]
    }
   ],
   "source": [
    "predicted = model.predict_classes(x_test)\n",
    "p = predicted[:10000]\n",
    "y_true = test_df.iloc[:,0]\n",
    "y = y_true[:10000]\n",
    "from sklearn.metrics import classification_report\n",
    "target_names = [\"Class {}\".format(i) for i in range(10)]\n",
    "print(classification_report(y_true, predicted, target_names=target_names))"
   ]
  },
  {
   "cell_type": "code",
   "execution_count": null,
   "id": "bbb60469",
   "metadata": {
    "papermill": {
     "duration": 1.284554,
     "end_time": "2022-12-31T20:57:56.630453",
     "exception": false,
     "start_time": "2022-12-31T20:57:55.345899",
     "status": "completed"
    },
    "tags": []
   },
   "outputs": [],
   "source": []
  }
 ],
 "metadata": {
  "kernelspec": {
   "display_name": "Python 3",
   "language": "python",
   "name": "python3"
  },
  "language_info": {
   "codemirror_mode": {
    "name": "ipython",
    "version": 3
   },
   "file_extension": ".py",
   "mimetype": "text/x-python",
   "name": "python",
   "nbconvert_exporter": "python",
   "pygments_lexer": "ipython3",
   "version": "3.7.12"
  },
  "papermill": {
   "default_parameters": {},
   "duration": 1759.155388,
   "end_time": "2022-12-31T20:58:00.942087",
   "environment_variables": {},
   "exception": null,
   "input_path": "__notebook__.ipynb",
   "output_path": "__notebook__.ipynb",
   "parameters": {},
   "start_time": "2022-12-31T20:28:41.786699",
   "version": "2.3.4"
  }
 },
 "nbformat": 4,
 "nbformat_minor": 5
}
